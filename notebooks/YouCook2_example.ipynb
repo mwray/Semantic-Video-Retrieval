{
 "cells": [
  {
   "cell_type": "code",
   "execution_count": 1,
   "id": "coral-match",
   "metadata": {},
   "outputs": [],
   "source": [
    "import os\n",
    "import sys\n",
    "\n",
    "import json\n",
    "\n",
    "import pandas as pd"
   ]
  },
  {
   "cell_type": "code",
   "execution_count": 2,
   "id": "inner-indiana",
   "metadata": {},
   "outputs": [],
   "source": [
    "# Download from http://youcook2.eecs.umich.edu/download\n",
    "with open('./youcookii_annotations_trainval.json') as in_f:\n",
    "    annotations = json.load(in_f)"
   ]
  },
  {
   "cell_type": "code",
   "execution_count": 3,
   "id": "stable-benefit",
   "metadata": {},
   "outputs": [],
   "source": [
    "val_sentences = {}\n",
    "val_videos = {}\n",
    "train_sentences = {}\n",
    "train_videos = {}\n",
    "for video in annotations['database']:\n",
    "    subset = annotations['database'][video]['subset']\n",
    "    for video_annotations in annotations['database'][video]['annotations']:\n",
    "        vid_key = '{}_{}'.format(video, video_annotations['id'])\n",
    "        if subset == 'validation':\n",
    "            val_sentences[vid_key] = video_annotations['sentence']\n",
    "            val_videos[vid_key] = video\n",
    "        elif subset == 'training':\n",
    "            train_sentences[vid_key] = video_annotations['sentence']\n",
    "            train_videos[vid_key] = video\n",
    "        else:\n",
    "            print('Unrecognised subset for video {}: {}'.format(video, subset))"
   ]
  },
  {
   "cell_type": "code",
   "execution_count": 4,
   "id": "confidential-summit",
   "metadata": {},
   "outputs": [],
   "source": [
    "def create_dataframe(videos_dict, sentences_dict):\n",
    "    df = pd.DataFrame((videos_dict, sentences_dict)).T\n",
    "    df.columns = ['video', 'sentence']\n",
    "    return df"
   ]
  },
  {
   "cell_type": "code",
   "execution_count": 5,
   "id": "complete-miami",
   "metadata": {},
   "outputs": [],
   "source": [
    "train_df = create_dataframe(train_videos, train_sentences)\n",
    "val_df = create_dataframe(val_videos, val_sentences)"
   ]
  },
  {
   "cell_type": "code",
   "execution_count": 6,
   "id": "chronic-locator",
   "metadata": {},
   "outputs": [],
   "source": [
    "train_df.to_pickle('youcookii_train.pkl')\n",
    "val_df.to_pickle('youcookii_val.pkl')"
   ]
  }
 ],
 "metadata": {
  "kernelspec": {
   "display_name": "Python 3",
   "language": "python",
   "name": "python3"
  },
  "language_info": {
   "codemirror_mode": {
    "name": "ipython",
    "version": 3
   },
   "file_extension": ".py",
   "mimetype": "text/x-python",
   "name": "python",
   "nbconvert_exporter": "python",
   "pygments_lexer": "ipython3",
   "version": "3.8.5"
  }
 },
 "nbformat": 4,
 "nbformat_minor": 5
}
